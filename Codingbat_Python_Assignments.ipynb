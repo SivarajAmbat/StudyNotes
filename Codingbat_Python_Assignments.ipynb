{
  "nbformat": 4,
  "nbformat_minor": 0,
  "metadata": {
    "colab": {
      "name": "Copy of Codingbat Python Assignments.ipynb",
      "version": "0.3.2",
      "provenance": [],
      "collapsed_sections": [],
      "include_colab_link": true
    },
    "kernelspec": {
      "name": "python3",
      "display_name": "Python 3"
    }
  },
  "cells": [
    {
      "cell_type": "markdown",
      "metadata": {
        "id": "view-in-github",
        "colab_type": "text"
      },
      "source": [
        "<a href=\"https://colab.research.google.com/github/SivarajTechM/StudyNotes/blob/master/Codingbat_Python_Assignments.ipynb\" target=\"_parent\"><img src=\"https://colab.research.google.com/assets/colab-badge.svg\" alt=\"Open In Colab\"/></a>"
      ]
    },
    {
      "cell_type": "markdown",
      "metadata": {
        "id": "5U5XkZep8Bdo",
        "colab_type": "text"
      },
      "source": [
        "https://codingbat.com/python\n",
        "\n",
        " **Solutions for Warmup - 1**\n",
        "\n",
        "1. sleep_in\n",
        "\n",
        "The parameter weekday is True if it is a weekday, and the parameter vacation is True if we are on vacation. We sleep in if it is not a weekday or we're on vacation. Return True if we sleep in.\n",
        "\n",
        "\n",
        "* sleep_in(False, False) → True\n",
        "* sleep_in(True, False) → False\n",
        "* sleep_in(False, True) → True\n",
        "\n",
        "\n"
      ]
    },
    {
      "cell_type": "code",
      "metadata": {
        "id": "XFZ8eMt69rtv",
        "colab_type": "code",
        "outputId": "e8367b21-b2ce-47b1-fa4b-4b048d8cd515",
        "colab": {
          "base_uri": "https://localhost:8080/",
          "height": 68
        }
      },
      "source": [
        "def sleep_in(weekday, vacation):\n",
        "  if not weekday or vacation:\n",
        "    return True\n",
        "  else:\n",
        "    return False\n",
        " \n",
        "print(sleep_in(False, False))\n",
        "print(sleep_in(True,False))\n",
        "print(sleep_in(False,True))"
      ],
      "execution_count": 0,
      "outputs": [
        {
          "output_type": "stream",
          "text": [
            "True\n",
            "False\n",
            "True\n"
          ],
          "name": "stdout"
        }
      ]
    },
    {
      "cell_type": "markdown",
      "metadata": {
        "id": "mZMazVaF8caN",
        "colab_type": "text"
      },
      "source": [
        "2. monkey_trouble\n",
        "\n",
        "We have two monkeys, a and b, and the parameters a_smile and b_smile indicate if each is smiling. We are in trouble if they are both smiling or if neither of them is smiling. Return True if we are in trouble.\n",
        "\n",
        "\n",
        "* monkey_trouble(True, True) → True\n",
        "* monkey_trouble(False, False) → True\n",
        "* monkey_trouble(True, False) → False\n",
        "\n"
      ]
    },
    {
      "cell_type": "code",
      "metadata": {
        "id": "o4iglwOj9s81",
        "colab_type": "code",
        "outputId": "48b4de89-2f58-4c85-ceca-d6ebe4623c72",
        "colab": {
          "base_uri": "https://localhost:8080/",
          "height": 68
        }
      },
      "source": [
        "def monkey_trouble(a_smile,b_smile):\n",
        "  if a_smile == b_smile:\n",
        "    return True\n",
        "  else:\n",
        "    return False\n",
        "  \n",
        "print(monkey_trouble(True,True))\n",
        "print(monkey_trouble(False,False))\n",
        "print(monkey_trouble(True,False))\n",
        "\n",
        "  "
      ],
      "execution_count": 0,
      "outputs": [
        {
          "output_type": "stream",
          "text": [
            "True\n",
            "True\n",
            "False\n"
          ],
          "name": "stdout"
        }
      ]
    },
    {
      "cell_type": "markdown",
      "metadata": {
        "id": "yw5f3sms8mFr",
        "colab_type": "text"
      },
      "source": [
        "3. sum_double\n",
        "\n",
        "Given two int values, return their sum. Unless the two values are the same, then return double their sum.\n",
        "\n",
        "\n",
        "* sum_double(1, 2) → 3\n",
        "* sum_double(3, 2) → 5\n",
        "* sum_double(2, 2) → 8\n"
      ]
    },
    {
      "cell_type": "code",
      "metadata": {
        "id": "gshrgS4a9t51",
        "colab_type": "code",
        "outputId": "6ee349f8-f347-4406-c909-8d7e812df8eb",
        "colab": {
          "base_uri": "https://localhost:8080/",
          "height": 68
        }
      },
      "source": [
        "def sum_double(a, b):\n",
        "  if a == b:\n",
        "    return 2*(a+b)\n",
        "  else:\n",
        "    return a+b\n",
        "  \n",
        "print(sum_double(1,2))\n",
        "print(sum_double(3,2))\n",
        "print(sum_double(2,2))\n"
      ],
      "execution_count": 0,
      "outputs": [
        {
          "output_type": "stream",
          "text": [
            "3\n",
            "5\n",
            "8\n"
          ],
          "name": "stdout"
        }
      ]
    },
    {
      "cell_type": "markdown",
      "metadata": {
        "id": "nP1lwZXt8tTw",
        "colab_type": "text"
      },
      "source": [
        "4. diff21\n",
        "\n",
        "Given an int n, return the absolute difference between n and 21, except return double the absolute difference if n is over 21.\n",
        "\n",
        "\n",
        "* diff21(19) → 2\n",
        "* diff21(10) → 11\n",
        "* diff21(21) → 0\n"
      ]
    },
    {
      "cell_type": "code",
      "metadata": {
        "id": "5bC6Zc4F9wCL",
        "colab_type": "code",
        "outputId": "c8294a0a-344d-4fff-c0d6-76977237472f",
        "colab": {
          "base_uri": "https://localhost:8080/",
          "height": 68
        }
      },
      "source": [
        "def diff21(n):\n",
        "  if n > 21:\n",
        "    return 2*(n-21)\n",
        "  else:\n",
        "    return abs(n-21)\n",
        " \n",
        "print(diff21(19))\n",
        "print(diff21(10))\n",
        "print(diff21(21))"
      ],
      "execution_count": 0,
      "outputs": [
        {
          "output_type": "stream",
          "text": [
            "2\n",
            "11\n",
            "0\n"
          ],
          "name": "stdout"
        }
      ]
    },
    {
      "cell_type": "markdown",
      "metadata": {
        "id": "suZb7NMW81l9",
        "colab_type": "text"
      },
      "source": [
        "5. parrot_trouble\n",
        "\n",
        "We have a loud talking parrot. The \"hour\" parameter is the current hour time in the range 0..23. We are in trouble if the parrot is talking and the hour is before 7 or after 20. Return True if we are in trouble.\n",
        "\n",
        "\n",
        "* parrot_trouble(True, 6) → True\n",
        "* parrot_trouble(True, 7) → False\n",
        "* parrot_trouble(False, 6) → False"
      ]
    },
    {
      "cell_type": "code",
      "metadata": {
        "id": "u12Qzqnz9wlV",
        "colab_type": "code",
        "outputId": "f92f1195-e58f-4c63-c57c-e41372ea127b",
        "colab": {
          "base_uri": "https://localhost:8080/",
          "height": 68
        }
      },
      "source": [
        "def parrot_trouble(talking,hour):\n",
        "  if talking and (hour < 7 or hour >20):\n",
        "    return True\n",
        "  else:\n",
        "    return False\n",
        "  \n",
        "print(parrot_trouble(True,6))\n",
        "print(parrot_trouble(True,7))\n",
        "print(parrot_trouble(False,6))"
      ],
      "execution_count": 0,
      "outputs": [
        {
          "output_type": "stream",
          "text": [
            "True\n",
            "False\n",
            "False\n"
          ],
          "name": "stdout"
        }
      ]
    },
    {
      "cell_type": "markdown",
      "metadata": {
        "id": "dc4IYocU87-i",
        "colab_type": "text"
      },
      "source": [
        "6. makes10\n",
        "\n",
        "Given 2 ints, a and b, return True if one if them is 10 or if their sum is 10.\n",
        "\n",
        "\n",
        "* makes10(9, 10) → True\n",
        "* makes10(9, 9) → False\n",
        "* makes10(1, 9) → True\n",
        "\n"
      ]
    },
    {
      "cell_type": "code",
      "metadata": {
        "id": "hXygRS9L9yyC",
        "colab_type": "code",
        "outputId": "a398530a-70dd-40c0-d7c8-85813af0e6d3",
        "colab": {
          "base_uri": "https://localhost:8080/",
          "height": 68
        }
      },
      "source": [
        "def makes10(a, b):\n",
        "  if a == 10 or b ==10 or (a+b == 10):\n",
        "    return True\n",
        "  else:\n",
        "    return False\n",
        "  \n",
        "print(makes10(9,10))\n",
        "print(makes10(9,9))\n",
        "print(makes10(1,9))\n"
      ],
      "execution_count": 0,
      "outputs": [
        {
          "output_type": "stream",
          "text": [
            "True\n",
            "False\n",
            "True\n"
          ],
          "name": "stdout"
        }
      ]
    },
    {
      "cell_type": "markdown",
      "metadata": {
        "id": "7yF111z-9C78",
        "colab_type": "text"
      },
      "source": [
        "7. near_hundred\n",
        "\n",
        "Given an int n, return True if it is within 10 of 100 or 200. Note: abs(num) computes the absolute value of a number.\n",
        "\n",
        "\n",
        "* near_hundred(93) → True\n",
        "* near_hundred(90) → True\n",
        "* near_hundred(89) → False\n",
        "\n"
      ]
    },
    {
      "cell_type": "code",
      "metadata": {
        "id": "J6ONrjHb9zd4",
        "colab_type": "code",
        "outputId": "0f5fefbc-1c8f-485c-b1ef-df4ec3927186",
        "colab": {
          "base_uri": "https://localhost:8080/",
          "height": 68
        }
      },
      "source": [
        "def near_hundred(n):\n",
        "  if abs(100-n) <= 10 or abs(200-n) <= 10:\n",
        "    return True\n",
        "  else:\n",
        "    return False\n",
        "  \n",
        "print(near_hundred(93))\n",
        "print(near_hundred(90))\n",
        "print(near_hundred(89))\n"
      ],
      "execution_count": 0,
      "outputs": [
        {
          "output_type": "stream",
          "text": [
            "True\n",
            "True\n",
            "False\n"
          ],
          "name": "stdout"
        }
      ]
    },
    {
      "cell_type": "markdown",
      "metadata": {
        "id": "AE-8V7ZE9IlF",
        "colab_type": "text"
      },
      "source": [
        "8. pos_neg\n",
        "\n",
        "Given 2 int values, return True if one is negative and one is positive. Except if the parameter \"negative\" is True, then return True only if both are negative.\n",
        "\n",
        "\n",
        "* pos_neg(1, -1, False) → True\n",
        "* pos_neg(-1, 1, False) → True\n",
        "* pos_neg(-4, -5, True) → True"
      ]
    },
    {
      "cell_type": "code",
      "metadata": {
        "id": "7CdMvwDF90z2",
        "colab_type": "code",
        "outputId": "643dd701-a1f9-438b-c5e2-07163180465e",
        "colab": {
          "base_uri": "https://localhost:8080/",
          "height": 68
        }
      },
      "source": [
        "def pos_neg(a, b, negative):\n",
        "  if negative:\n",
        "    if a<0 and b<0:\n",
        "      return True\n",
        "  else:\n",
        "    if (a<0 and b>0) or (a>0 and b<0):\n",
        "      return True\n",
        " \n",
        "print(pos_neg(1,-1,False))\n",
        "print(pos_neg(-1,1,False))\n",
        "print(pos_neg(-4,-5,True))\n"
      ],
      "execution_count": 0,
      "outputs": [
        {
          "output_type": "stream",
          "text": [
            "True\n",
            "True\n",
            "True\n"
          ],
          "name": "stdout"
        }
      ]
    },
    {
      "cell_type": "markdown",
      "metadata": {
        "id": "Kv0Dkbuw9Ntl",
        "colab_type": "text"
      },
      "source": [
        "9. not_string\n",
        "\n",
        "Given a string, return a new string where \"not \" has been added to the front. However, if the string already begins with \"not\", return the string unchanged.\n",
        "\n",
        "\n",
        "* not_string('candy') → 'not candy'\n",
        "* not_string('x') → 'not x'\n",
        "* not_string('not bad') → 'not bad'\n"
      ]
    },
    {
      "cell_type": "code",
      "metadata": {
        "id": "NToNUTX391Pn",
        "colab_type": "code",
        "outputId": "01efea19-300d-4e49-b4b1-0b8b846d0450",
        "colab": {
          "base_uri": "https://localhost:8080/",
          "height": 68
        }
      },
      "source": [
        "def not_string(s):\n",
        "  if s[:3] == \"not\":\n",
        "    return s\n",
        "  else:\n",
        "    return \"not \" + s\n",
        "\n",
        "print(not_string(\"candy\"))\n",
        "print(not_string(\"x\"))\n",
        "print(not_string(\"not bad\"))\n",
        "\n"
      ],
      "execution_count": 0,
      "outputs": [
        {
          "output_type": "stream",
          "text": [
            "not candy\n",
            "not x\n",
            "not bad\n"
          ],
          "name": "stdout"
        }
      ]
    },
    {
      "cell_type": "markdown",
      "metadata": {
        "id": "AIrXvRtl9SyG",
        "colab_type": "text"
      },
      "source": [
        "10. missing_char\n",
        "\n",
        "Given a non-empty string and an int n, return a new string where the char at index n has been removed. The value of n will be a valid index of a char in the original string (i.e. n will be in the range 0..len(str)-1 inclusive).\n",
        "\n",
        "\n",
        "* missing_char('kitten', 1) → 'ktten'\n",
        "* missing_char('kitten', 0) → 'itten'\n",
        "* missing_char('kitten', 4) → 'kittn'\n"
      ]
    },
    {
      "cell_type": "code",
      "metadata": {
        "id": "nWzOMhA792jj",
        "colab_type": "code",
        "outputId": "e45a2a8e-3888-48fa-cae4-ec0212b1aaa4",
        "colab": {
          "base_uri": "https://localhost:8080/",
          "height": 68
        }
      },
      "source": [
        "def missing_char(s,n):\n",
        "  if n>=0 and n<len(s)-1:\n",
        "    return s[0:n] + s[n+1:]\n",
        "  \n",
        "print(missing_char(\"kitten\",1))\n",
        "print(missing_char(\"kitten\",0))\n",
        "print(missing_char(\"kitten\",4))"
      ],
      "execution_count": 0,
      "outputs": [
        {
          "output_type": "stream",
          "text": [
            "ktten\n",
            "itten\n",
            "kittn\n"
          ],
          "name": "stdout"
        }
      ]
    },
    {
      "cell_type": "markdown",
      "metadata": {
        "id": "uliu55HO9Zg6",
        "colab_type": "text"
      },
      "source": [
        "11. front_back\n",
        "\n",
        "Given a string, return a new string where the first and last chars have been exchanged.\n",
        "\n",
        "\n",
        "* front_back('code') → 'eodc'\n",
        "* front_back('a') → 'a'\n",
        "* front_back('ab') → 'ba'\n"
      ]
    },
    {
      "cell_type": "code",
      "metadata": {
        "id": "xDQegSUd93wS",
        "colab_type": "code",
        "outputId": "ff37a002-d680-4da0-8ab7-57c8e8b42bcc",
        "colab": {
          "base_uri": "https://localhost:8080/",
          "height": 68
        }
      },
      "source": [
        "def front_back(s):\n",
        "  if len(s) == 1:\n",
        "    return s\n",
        "  elif len(s) == 2:\n",
        "    return s[1] + s[0]\n",
        "  else:\n",
        "    return s[-1:] + s[1:-1] + s[:1]\n",
        "  \n",
        "print(front_back('code'))\n",
        "print(front_back('a'))\n",
        "print(front_back('ab'))\n",
        "\n",
        "\n",
        "\n",
        "\n"
      ],
      "execution_count": 0,
      "outputs": [
        {
          "output_type": "stream",
          "text": [
            "eodc\n",
            "a\n",
            "ba\n"
          ],
          "name": "stdout"
        }
      ]
    },
    {
      "cell_type": "markdown",
      "metadata": {
        "id": "YL_gU2n_9eV7",
        "colab_type": "text"
      },
      "source": [
        "12. front3\n",
        "\n",
        "Given a string, we'll say that the front is the first 3 chars of the string. If the string length is less than 3, the front is whatever is there. Return a new string which is 3 copies of the front.\n",
        "\n",
        "\n",
        "* front3('Java') → 'JavJavJav'\n",
        "* front3('Chocolate') → 'ChoChoCho'\n",
        "* front3('abc') → 'abcabcabc'\n"
      ]
    },
    {
      "cell_type": "code",
      "metadata": {
        "id": "4-iCU-NN94ka",
        "colab_type": "code",
        "outputId": "33752b59-8a4d-4d09-cc27-f8f1eaa3c45a",
        "colab": {
          "base_uri": "https://localhost:8080/",
          "height": 68
        }
      },
      "source": [
        "def front3(s):\n",
        "  front=s[:3]\n",
        "  if(len(s)>=3):\n",
        "    return front+front+front\n",
        "  \n",
        "print(front3(\"Java\"))\n",
        "print(front3(\"Chocolate\"))\n",
        "print(front3(\"abc\"))\n",
        "\n",
        "\n",
        "\n",
        "    "
      ],
      "execution_count": 0,
      "outputs": [
        {
          "output_type": "stream",
          "text": [
            "JavJavJav\n",
            "ChoChoCho\n",
            "abcabcabc\n"
          ],
          "name": "stdout"
        }
      ]
    },
    {
      "cell_type": "markdown",
      "metadata": {
        "id": "MpyxV5v59kad",
        "colab_type": "text"
      },
      "source": [
        "\n",
        "\n",
        "---\n",
        "\n",
        "**Solutions for Warmup - 2**\n",
        "\n",
        "\n",
        "1. string_times\n",
        "\n",
        "Given a string and a non-negative int n, return a larger string that is n copies of the original string.\n",
        "\n",
        "* string_times('Hi', 2) → 'HiHi'\n",
        "* string_times('Hi', 3) → 'HiHiHi'\n",
        "* string_times('Hi', 1) → 'Hi'\n",
        "\n"
      ]
    },
    {
      "cell_type": "code",
      "metadata": {
        "id": "-cvJyj8oXlLl",
        "colab_type": "code",
        "outputId": "7d038e96-9ab7-4c12-df0e-70bd0c9e55f2",
        "colab": {
          "base_uri": "https://localhost:8080/",
          "height": 68
        }
      },
      "source": [
        "def string_times(s,n):\n",
        "  if(n>0):\n",
        "    return s*n\n",
        "\n",
        "print(string_times(\"Hi\", 2))\n",
        "print(string_times(\"Hi\", 3))\n",
        "print(string_times(\"Hi\", 1))\n"
      ],
      "execution_count": 0,
      "outputs": [
        {
          "output_type": "stream",
          "text": [
            "HiHi\n",
            "HiHiHi\n",
            "Hi\n"
          ],
          "name": "stdout"
        }
      ]
    },
    {
      "cell_type": "markdown",
      "metadata": {
        "id": "YNkH82CZXGGL",
        "colab_type": "text"
      },
      "source": [
        "2. front_times\n",
        "\n",
        "Given a string and a non-negative int n, we'll say that the front of the string is the first 3 chars, or whatever is there if the string is less than length 3. Return n copies of the front;\n",
        "\n",
        "* front_times('Chocolate', 2) → 'ChoCho'\n",
        "* front_times('Chocolate', 3) → 'ChoChoCho'\n",
        "* front_times('Abc', 3) → 'AbcAbcAbc'\n",
        "\n",
        "\n",
        "\n",
        "\n",
        "\n",
        "\n",
        "\n",
        "\n",
        "\n",
        "\n",
        "\n",
        "\n"
      ]
    },
    {
      "cell_type": "code",
      "metadata": {
        "id": "jZ4ZNPHsXlwt",
        "colab_type": "code",
        "outputId": "214858eb-4b5c-4304-ff58-11d7d92ae4c6",
        "colab": {
          "base_uri": "https://localhost:8080/",
          "height": 68
        }
      },
      "source": [
        "def front_times(s,n):\n",
        "  if n >= 0:\n",
        "    front = s[:3]\n",
        "  return front*n\n",
        "\n",
        "print(front_times(\"Chocolate\", 2))\n",
        "print(front_times(\"Chocolate\", 3))\n",
        "print(front_times(\"Abc\", 3))\n",
        "  "
      ],
      "execution_count": 0,
      "outputs": [
        {
          "output_type": "stream",
          "text": [
            "ChoCho\n",
            "ChoChoCho\n",
            "AbcAbcAbc\n"
          ],
          "name": "stdout"
        }
      ]
    },
    {
      "cell_type": "markdown",
      "metadata": {
        "id": "I2HPdu_yXg1N",
        "colab_type": "text"
      },
      "source": [
        "3. string_bits\n",
        "\n",
        "Given a string, return a new string made of every other char starting with the first, so \"Hello\" yields \"Hlo\".\n",
        "\n",
        "* string_bits('Hello') → 'Hlo'\n",
        "* string_bits('Hi') → 'H'\n",
        "* string_bits('Heeololeo') → 'Hello'"
      ]
    },
    {
      "cell_type": "code",
      "metadata": {
        "id": "2aMKcpSAXmyw",
        "colab_type": "code",
        "outputId": "188bf41f-68d1-41cb-a427-2a60f9ab818a",
        "colab": {
          "base_uri": "https://localhost:8080/",
          "height": 68
        }
      },
      "source": [
        "def string_bits(s):\n",
        "  out = \"\"\n",
        "  for n in range(0,len(s)):\n",
        "    if n%2==0:\n",
        "      out += s[n]\n",
        "  return out\n",
        "\n",
        "print(string_bits(\"Hello\"))\n",
        "print(string_bits(\"Hi\"))\n",
        "print(string_bits(\"Heeololeo\"))\n",
        "\n",
        "  "
      ],
      "execution_count": 0,
      "outputs": [
        {
          "output_type": "stream",
          "text": [
            "Hlo\n",
            "H\n",
            "Hello\n"
          ],
          "name": "stdout"
        }
      ]
    },
    {
      "cell_type": "markdown",
      "metadata": {
        "id": "lJ2B_LjKXaRJ",
        "colab_type": "text"
      },
      "source": [
        "4. string_splosion\n",
        "\n",
        "Given a non-empty string like \"Code\" return a string like \"CCoCodCode\".\n",
        "\n",
        "* string_splosion('Code') → 'CCoCodCode'\n",
        "* string_splosion('abc') → 'aababc'\n",
        "* string_splosion('ab') → 'aab'"
      ]
    },
    {
      "cell_type": "code",
      "metadata": {
        "id": "rXiMFlOlXneq",
        "colab_type": "code",
        "outputId": "d04a3f9e-98ff-49fe-982d-b7e815093e74",
        "colab": {
          "base_uri": "https://localhost:8080/",
          "height": 68
        }
      },
      "source": [
        "def string_splosion(s):\n",
        "  out = ''\n",
        "  for i in range(len(s)+1):\n",
        "    out += s[:i]\n",
        "  return out\n",
        "\n",
        "print(string_splosion(\"Code\"))\n",
        "print(string_splosion(\"abc\"))\n",
        "print(string_splosion(\"ab\"))"
      ],
      "execution_count": 0,
      "outputs": [
        {
          "output_type": "stream",
          "text": [
            "CCoCodCode\n",
            "aababc\n",
            "aab\n"
          ],
          "name": "stdout"
        }
      ]
    },
    {
      "cell_type": "markdown",
      "metadata": {
        "id": "EZm0TK8pXWct",
        "colab_type": "text"
      },
      "source": [
        "5. last2\n",
        "\n",
        "Given a string, return the count of the number of times that a substring length 2 appears in the string and also as the last 2 chars of the string, so \"hixxxhi\" yields 1 (we won't count the end substring).\n",
        "\n",
        "* last2('hixxhi') → 1\n",
        "* last2('xaxxaxaxx') → 1\n",
        "* last2('axxxaaxx') → 2"
      ]
    },
    {
      "cell_type": "code",
      "metadata": {
        "id": "3I9g9p3wXooZ",
        "colab_type": "code",
        "outputId": "4ca07c2a-9cd3-49cd-c7c1-e5f9e27a02e9",
        "colab": {
          "base_uri": "https://localhost:8080/",
          "height": 68
        }
      },
      "source": [
        "def last2(s):\n",
        "  count = 0\n",
        "  for i in range(len(s)-2):\n",
        "    if s[i:i+2] == s[-2:]:\n",
        "      count += 1\n",
        "  return count\n",
        "\n",
        "\n",
        "print(last2('hixxhi'))\n",
        "print(last2('xaxxaxaxx'))\n",
        "print(last2('axxxaaxx'))\n",
        "\n",
        "  "
      ],
      "execution_count": 0,
      "outputs": [
        {
          "output_type": "stream",
          "text": [
            "1\n",
            "1\n",
            "2\n"
          ],
          "name": "stdout"
        }
      ]
    },
    {
      "cell_type": "markdown",
      "metadata": {
        "id": "lDyGZLoaXT-9",
        "colab_type": "text"
      },
      "source": [
        "6. array_count9\n",
        "\n",
        "Given an array of ints, return the number of 9's in the array.\n",
        "\n",
        "* array_count9([1, 2, 9]) → 1\n",
        "* array_count9([1, 9, 9]) → 2\n",
        "* array_count9([1, 9, 9, 3, 9]) → 3"
      ]
    },
    {
      "cell_type": "code",
      "metadata": {
        "id": "akCNx99PXpSG",
        "colab_type": "code",
        "outputId": "da1a0242-5050-4f29-8ef7-775dba8116fe",
        "colab": {
          "base_uri": "https://localhost:8080/",
          "height": 68
        }
      },
      "source": [
        "def array_count9(nums):\n",
        "  count = 0\n",
        "  for i in nums:\n",
        "    if i == 9:\n",
        "      count += 1\n",
        "  return count\n",
        "\n",
        "print(array_count9([1, 2, 9]))\n",
        "print(array_count9([1, 9, 9]))\n",
        "print(array_count9([1, 9, 9, 3, 9]))\n"
      ],
      "execution_count": 0,
      "outputs": [
        {
          "output_type": "stream",
          "text": [
            "1\n",
            "2\n",
            "3\n"
          ],
          "name": "stdout"
        }
      ]
    },
    {
      "cell_type": "markdown",
      "metadata": {
        "id": "AgevSP1uXQ6X",
        "colab_type": "text"
      },
      "source": [
        "7. array_front9\n",
        "\n",
        "Given an array of ints, return True if one of the first 4 elements in the array is a 9. The array length may be less than 4.\n",
        "\n",
        "* array_front9([1, 2, 9, 3, 4]) → True\n",
        "* array_front9([1, 2, 3, 4, 9]) → False\n",
        "* array_front9([1, 2, 3, 4, 5]) → False"
      ]
    },
    {
      "cell_type": "code",
      "metadata": {
        "id": "zEwnDnJHXp16",
        "colab_type": "code",
        "outputId": "fbaeb73b-0701-43a1-c9eb-acfdb976fdda",
        "colab": {
          "base_uri": "https://localhost:8080/",
          "height": 68
        }
      },
      "source": [
        "def array_front9(nums):\n",
        "  limit = len(nums)\n",
        "  if limit > 4:\n",
        "    limit = 4\n",
        "    \n",
        "  for i in range(limit):\n",
        "    if nums[i] == 9:\n",
        "      return True\n",
        "  return False\n",
        "\n",
        "print(array_front9([1, 2, 9, 3, 4]))\n",
        "print(array_front9([1, 2, 3, 4, 9]))\n",
        "print(array_front9([1, 2, 3, 4, 5]))"
      ],
      "execution_count": 0,
      "outputs": [
        {
          "output_type": "stream",
          "text": [
            "True\n",
            "False\n",
            "False\n"
          ],
          "name": "stdout"
        }
      ]
    },
    {
      "cell_type": "markdown",
      "metadata": {
        "id": "E3J0Eu16XNSb",
        "colab_type": "text"
      },
      "source": [
        "8. array123\n",
        "\n",
        "Given an array of ints, return True if the sequence of numbers 1, 2, 3 appears in the array somewhere.\n",
        "\n",
        "* array123([1, 1, 2, 3, 1]) → True\n",
        "* array123([1, 1, 2, 4, 1]) → False\n",
        "* array123([1, 1, 2, 1, 2, 3]) → True\n"
      ]
    },
    {
      "cell_type": "code",
      "metadata": {
        "id": "eNYlel1jXqrM",
        "colab_type": "code",
        "outputId": "21e07452-64dd-42ee-d24e-a96c849327e8",
        "colab": {
          "base_uri": "https://localhost:8080/",
          "height": 68
        }
      },
      "source": [
        "def array123(nums):\n",
        "  for i in range(len(nums)-2):\n",
        "    if nums[i] == 1 and nums[i+1] == 2 and nums[i+2] == 3:\n",
        "      return True\n",
        "  return False\n",
        "\n",
        "print(array123([1, 1, 2, 3, 1]))\n",
        "print(array123([1, 1, 2, 4, 1]))\n",
        "print(array123([1, 1, 2, 1, 2, 3]))"
      ],
      "execution_count": 0,
      "outputs": [
        {
          "output_type": "stream",
          "text": [
            "True\n",
            "False\n",
            "True\n"
          ],
          "name": "stdout"
        }
      ]
    },
    {
      "cell_type": "markdown",
      "metadata": {
        "id": "J3NxFYB0XKHf",
        "colab_type": "text"
      },
      "source": [
        "9. string_match\n",
        "\n",
        "Given 2 strings, a and b, return the number of the positions where they contain the same length 2 substring. So \"xxcaazz\" and \"xxbaaz\" yields 3, since the \"xx\", \"aa\", and \"az\" substrings appear in the same place in both strings.\n",
        "\n",
        "* string_match('xxcaazz', 'xxbaaz') → 3\n",
        "* string_match('abc', 'abc') → 2\n",
        "* string_match('abc', 'axc') → 0"
      ]
    },
    {
      "cell_type": "code",
      "metadata": {
        "id": "iVR7KYatXrdM",
        "colab_type": "code",
        "outputId": "349b6467-a2f1-4289-f933-4a065af7a572",
        "colab": {
          "base_uri": "https://localhost:8080/",
          "height": 68
        }
      },
      "source": [
        "def string_match(a,b):\n",
        "  len_a = len(a)\n",
        "  len_b = len(b)\n",
        "  limit = 0\n",
        "  if len_a > len_b:\n",
        "    limit = len_b\n",
        "  else:\n",
        "    limit = len_a\n",
        "  \n",
        "  count = 0\n",
        "  for i in range(limit-1):\n",
        "    if a[i:i+2] == b[i:i+2]:\n",
        "      count += 1\n",
        "  return count\n",
        "\n",
        "print(string_match('xxcaazz', 'xxbaaz'))\n",
        "print(string_match('abc', 'abc'))\n",
        "print(string_match('abc', 'axc'))\n",
        "\n"
      ],
      "execution_count": 0,
      "outputs": [
        {
          "output_type": "stream",
          "text": [
            "3\n",
            "2\n",
            "0\n"
          ],
          "name": "stdout"
        }
      ]
    },
    {
      "cell_type": "markdown",
      "metadata": {
        "id": "2YpMlP-bW7vi",
        "colab_type": "text"
      },
      "source": [
        "\n",
        "\n",
        "---\n",
        "\n",
        "**Solutions for String-1**\n",
        "\n",
        "Basic python string problems -- no loops. Use + to combine strings, len(str) is the number of chars in a String, str[i:j] extracts the substring starting at index i and running up to but not including index j."
      ]
    },
    {
      "cell_type": "markdown",
      "metadata": {
        "id": "WTSoAXgZoalI",
        "colab_type": "text"
      },
      "source": [
        "1. hello_name\n",
        "\n",
        "Given a string name, e.g. \"Bob\", return a greeting of the form \"Hello Bob!\".\n",
        "\n",
        "\n",
        "* hello_name('Bob') → 'Hello Bob!'\n",
        "* hello_name('Alice') → 'Hello Alice!'\n",
        "* hello_name('X') → 'Hello X!'"
      ]
    },
    {
      "cell_type": "code",
      "metadata": {
        "id": "OhW0uXD7oYMC",
        "colab_type": "code",
        "outputId": "552b3995-e893-43f6-80ad-94ed47408625",
        "colab": {
          "base_uri": "https://localhost:8080/",
          "height": 68
        }
      },
      "source": [
        "def hello_name(s):\n",
        "  return \"Hello \" + s + \"!\"\n",
        "\n",
        "\n",
        "print(hello_name(\"Bob\"))\n",
        "print(hello_name(\"Alice\"))\n",
        "print(hello_name(\"X\"))\n",
        "\n",
        "\n",
        "  "
      ],
      "execution_count": 0,
      "outputs": [
        {
          "output_type": "stream",
          "text": [
            "Hello Bob!\n",
            "Hello Alice!\n",
            "Hello X!\n"
          ],
          "name": "stdout"
        }
      ]
    },
    {
      "cell_type": "markdown",
      "metadata": {
        "id": "NqY5fuC_oZDe",
        "colab_type": "text"
      },
      "source": [
        "2. make_abba\n",
        "\n",
        "Given two strings, a and b, return the result of putting them together in the order abba, e.g. \"Hi\" and \"Bye\" returns \"HiByeByeHi\".\n",
        "\n",
        "\n",
        "* make_abba('Hi', 'Bye') → 'HiByeByeHi'\n",
        "* make_abba('Yo', 'Alice') → 'YoAliceAliceYo'\n",
        "* make_abba('What', 'Up') → 'WhatUpUpWhat'"
      ]
    },
    {
      "cell_type": "code",
      "metadata": {
        "id": "dsiaUGWmoghA",
        "colab_type": "code",
        "colab": {}
      },
      "source": [
        "def make_abba(a,b):\n",
        "  return a + b + b + a"
      ],
      "execution_count": 0,
      "outputs": []
    },
    {
      "cell_type": "markdown",
      "metadata": {
        "id": "VXpogpCEohnX",
        "colab_type": "text"
      },
      "source": [
        "3. make_tags\n",
        "\n",
        "The web is built with HTML strings like \"<i>Yay</i>\" which draws Yay as italic text. In this example, the \"i\" tag makes <i> and </i> which surround the word \"Yay\". Given tag and word strings, create the HTML string with tags around the word, e.g. \"\\<i>Yay\\</i>\".\n",
        "\n",
        "\n",
        "* make_tags('i', 'Yay') → '\\<i>Yay\\</i>'\n",
        "* make_tags('i', 'Hello') → '\\<i>Hello\\</i>'\n",
        "* make_tags('cite', 'Yay') → '\\<cite>Yay\\</cite>'"
      ]
    },
    {
      "cell_type": "code",
      "metadata": {
        "id": "f_2dhIK0ozei",
        "colab_type": "code",
        "colab": {}
      },
      "source": [
        "def make_tags(tag,s):\n",
        "  return \"<\" + tag + \">\" + s + \"</\" + tag + \">\"\n"
      ],
      "execution_count": 0,
      "outputs": []
    },
    {
      "cell_type": "markdown",
      "metadata": {
        "id": "CMfmOfUoo0F8",
        "colab_type": "text"
      },
      "source": [
        "4. make_out_word\n",
        "\n",
        "Given an \"out\" string length 4, such as \"<<>>\", and a word, return a new string where the word is in the middle of the out string, e.g. \"<<word>>\".\n",
        "\n",
        "\n",
        "* make_out_word('<<>>', 'Yay') → '\\<\\<Yay\\>\\>'\n",
        "* make_out_word('<<>>', 'WooHoo') → '\\<\\<WooHoo\\>\\>'\n",
        "* make_out_word('[[]]', 'word') → '[[word]]'\n"
      ]
    },
    {
      "cell_type": "code",
      "metadata": {
        "id": "HksgvlOro_mG",
        "colab_type": "code",
        "colab": {}
      },
      "source": [
        "def make_out_word(out, s):\n",
        "  return out[:2] + s + out[2:]\n"
      ],
      "execution_count": 0,
      "outputs": []
    },
    {
      "cell_type": "markdown",
      "metadata": {
        "id": "VmVcM_s9pAYE",
        "colab_type": "text"
      },
      "source": [
        "5. extra_end\n",
        "\n",
        "\n",
        "Given a string, return a new string made of 3 copies of the last 2 chars of the original string. The string length will be at least 2.\n",
        "\n",
        "\n",
        "* extra_end('Hello') → 'lololo'\n",
        "* extra_end('ab') → 'ababab'\n",
        "* extra_end('Hi') → 'HiHiHi'"
      ]
    },
    {
      "cell_type": "code",
      "metadata": {
        "id": "mhflL5QBpDXE",
        "colab_type": "code",
        "colab": {}
      },
      "source": [
        "def extra_end(s):\n",
        "  return s[=2:]*3\n"
      ],
      "execution_count": 0,
      "outputs": []
    },
    {
      "cell_type": "markdown",
      "metadata": {
        "id": "2dT2NsR-pD8a",
        "colab_type": "text"
      },
      "source": [
        "6. first_two\n",
        "\n",
        "Given a string, return the string made of its first two chars, so the String \"Hello\" yields \"He\". If the string is shorter than length 2, return whatever there is, so \"X\" yields \"X\", and the empty string \"\" yields the empty string \"\".\n",
        "\n",
        "\n",
        "* first_two('Hello') → 'He'\n",
        "* first_two('abcdefg') → 'ab'\n",
        "* first_two('ab') → 'ab'"
      ]
    },
    {
      "cell_type": "code",
      "metadata": {
        "id": "Pwod6gNUpGlN",
        "colab_type": "code",
        "colab": {}
      },
      "source": [
        "def first_two(s):\n",
        "  if len(s) <= 2:\n",
        "    return s\n",
        "  else:\n",
        "    return s[:2]\n"
      ],
      "execution_count": 0,
      "outputs": []
    },
    {
      "cell_type": "markdown",
      "metadata": {
        "id": "HDJdytKvpHTW",
        "colab_type": "text"
      },
      "source": [
        "7.first_half\n",
        "\n",
        "Given a string of even length, return the first half. So the string \"WooHoo\" yields \"Woo\".\n",
        "\n",
        "\n",
        "* first_half('WooHoo') → 'Woo'\n",
        "* first_half('HelloThere') → 'Hello'\n",
        "* first_half('abcdef') → 'abc'"
      ]
    },
    {
      "cell_type": "code",
      "metadata": {
        "id": "9z3MArlypJXX",
        "colab_type": "code",
        "colab": {}
      },
      "source": [
        "def first_half(s):\n",
        "  return s[:len(s)/2]\n"
      ],
      "execution_count": 0,
      "outputs": []
    },
    {
      "cell_type": "markdown",
      "metadata": {
        "id": "VnNrVXxgpKBl",
        "colab_type": "text"
      },
      "source": [
        "8. without_end\n",
        "\n",
        "Given a string, return a version without the first and last char, so \"Hello\" yields \"ell\". The string length will be at least 2.\n",
        "\n",
        "\n",
        "* without_end('Hello') → 'ell'\n",
        "* without_end('java') → 'av'\n",
        "* without_end('coding') → 'odin'"
      ]
    },
    {
      "cell_type": "code",
      "metadata": {
        "id": "xl-p01gwpMFg",
        "colab_type": "code",
        "colab": {}
      },
      "source": [
        "def without_end(s):\n",
        "  return s[1:-1]\n"
      ],
      "execution_count": 0,
      "outputs": []
    },
    {
      "cell_type": "markdown",
      "metadata": {
        "id": "yov791R4pMul",
        "colab_type": "text"
      },
      "source": [
        "9. combo_string\n",
        "\n",
        "Given 2 strings, a and b, return a string of the form short+long+short, with the shorter string on the outside and the longer string on the inside. The strings will not be the same length, but they may be empty (length 0).\n",
        "\n",
        "\n",
        "* combo_string('Hello', 'hi') → 'hiHellohi'\n",
        "* combo_string('hi', 'Hello') → 'hiHellohi'\n",
        "* combo_string('aaa', 'b') → 'baaab'"
      ]
    },
    {
      "cell_type": "code",
      "metadata": {
        "id": "5g_0IoRjpPUM",
        "colab_type": "code",
        "colab": {}
      },
      "source": [
        "def combo_string(a, b):\n",
        "  if len(a) > len(b):\n",
        "    return b + a + b\n",
        "  else\n",
        "    return a + b + a\n",
        " "
      ],
      "execution_count": 0,
      "outputs": []
    },
    {
      "cell_type": "markdown",
      "metadata": {
        "id": "l6sgKI1npP8V",
        "colab_type": "text"
      },
      "source": [
        "10. non_start\n",
        "\n",
        "Given 2 strings, return their concatenation, except omit the first char of each. The strings will be at least length 1.\n",
        "\n",
        "\n",
        "* non_start('Hello', 'There') → 'ellohere'\n",
        "* non_start('java', 'code') → 'avaode'\n",
        "* non_start('shotl', 'java') → 'hotlava'"
      ]
    },
    {
      "cell_type": "code",
      "metadata": {
        "id": "menWybgTpR1-",
        "colab_type": "code",
        "colab": {}
      },
      "source": [
        "def non_start(a,b):\n",
        "  return a[1:] + b[1:]\n"
      ],
      "execution_count": 0,
      "outputs": []
    },
    {
      "cell_type": "markdown",
      "metadata": {
        "id": "_wBDvLFkpSbU",
        "colab_type": "text"
      },
      "source": [
        "11. left2\n",
        "\n",
        "Given a string, return a \"rotated left 2\" version where the first 2 chars are moved to the end. The string length will be at least 2.\n",
        "\n",
        "\n",
        "* left2('Hello') → 'lloHe'\n",
        "* left2('java') → 'vaja'\n",
        "* left2('Hi') → 'Hi'"
      ]
    },
    {
      "cell_type": "code",
      "metadata": {
        "id": "3HjrS9zkpUvz",
        "colab_type": "code",
        "colab": {}
      },
      "source": [
        "def left2(s):\n",
        "  return s[2:] + s[:2]\n"
      ],
      "execution_count": 0,
      "outputs": []
    },
    {
      "cell_type": "markdown",
      "metadata": {
        "id": "-XSCdScype-L",
        "colab_type": "text"
      },
      "source": [
        "\n",
        "\n",
        "---\n",
        "\n",
        "**Solutions for List-1**\n",
        "\n",
        "Basic python list problems -- no loops.. Use a[0], a[1], ... to access elements in a list, len(a) is the length.\n",
        "\n",
        "1. first_last6\n",
        "\n",
        "Given an array of ints, return True if 6 appears as either the first or last element in the array. The array will be length 1 or more.\n",
        "\n",
        "\n",
        "* first_last6([1, 2, 6]) → True\n",
        "* first_last6([6, 1, 2, 3]) → True\n",
        "* first_last6([13, 6, 1, 2, 3]) → False"
      ]
    },
    {
      "cell_type": "code",
      "metadata": {
        "id": "vM974OVRqtVi",
        "colab_type": "code",
        "colab": {}
      },
      "source": [
        "def first_last6(nums):\n",
        "  if nums[0] == 6 or nums[-1] == 6:\n",
        "    return True\n",
        "  else\n",
        "    return False\n",
        "  "
      ],
      "execution_count": 0,
      "outputs": []
    },
    {
      "cell_type": "markdown",
      "metadata": {
        "id": "PDy7i1HFquB8",
        "colab_type": "text"
      },
      "source": [
        "2. make_pi\n",
        "\n",
        "Return an int array length 3 containing the first 3 digits of pi, {3, 1, 4}.\n",
        "\n",
        "\n",
        "* make_pi() → [3, 1, 4]"
      ]
    },
    {
      "cell_type": "code",
      "metadata": {
        "id": "vA6aTVWFqv5X",
        "colab_type": "code",
        "colab": {}
      },
      "source": [
        "def make_pi():\n",
        "  return [3, 1, 4]\n"
      ],
      "execution_count": 0,
      "outputs": []
    },
    {
      "cell_type": "markdown",
      "metadata": {
        "id": "YdjGQ1EtqwSZ",
        "colab_type": "text"
      },
      "source": [
        "3. common_end\n",
        "\n",
        "Given 2 arrays of ints, a and b, return True if they have the same first element or they have the same last element. Both arrays will be length 1 or more.\n",
        "\n",
        "\n",
        "* common_end([1, 2, 3], [7, 3]) → True\n",
        "* common_end([1, 2, 3], [7, 3, 2]) → False\n",
        "* common_end([1, 2, 3], [1, 3]) → True"
      ]
    },
    {
      "cell_type": "code",
      "metadata": {
        "id": "suuAY3dGqyY0",
        "colab_type": "code",
        "colab": {}
      },
      "source": [
        "def common_end(a, b):\n",
        "  if a[0] == b[0] or a[-1] == b[-1]:\n",
        "    return True\n",
        "  else:\n",
        "    return False\n",
        " \n",
        "  "
      ],
      "execution_count": 0,
      "outputs": []
    },
    {
      "cell_type": "markdown",
      "metadata": {
        "id": "j6qXyc34qy7j",
        "colab_type": "text"
      },
      "source": [
        "4. sum3\n",
        "\n",
        "Given an array of ints length 3, return the sum of all the elements.\n",
        "\n",
        "\n",
        "* sum3([1, 2, 3]) → 6\n",
        "* sum3([5, 11, 2]) → 18\n",
        "* sum3([7, 0, 0]) → 7"
      ]
    },
    {
      "cell_type": "code",
      "metadata": {
        "id": "TVLbC_Edq0hS",
        "colab_type": "code",
        "colab": {}
      },
      "source": [
        "def sum3(nums):\n",
        "  return sum(nums)\n"
      ],
      "execution_count": 0,
      "outputs": []
    },
    {
      "cell_type": "markdown",
      "metadata": {
        "id": "8RLDNZNkq37e",
        "colab_type": "text"
      },
      "source": [
        "5. rotate_left3\n",
        "\n",
        "Given an array of ints length 3, return an array with the elements \"rotated left\" so {1, 2, 3} yields {2, 3, 1}.\n",
        "\n",
        "\n",
        "* rotate_left3([1, 2, 3]) → [2, 3, 1]\n",
        "* rotate_left3([5, 11, 9]) → [11, 9, 5]\n",
        "* rotate_left3([7, 0, 0]) → [0, 0, 7]"
      ]
    },
    {
      "cell_type": "code",
      "metadata": {
        "id": "DxeL_5xeq6Cy",
        "colab_type": "code",
        "colab": {}
      },
      "source": [
        ""
      ],
      "execution_count": 0,
      "outputs": []
    },
    {
      "cell_type": "markdown",
      "metadata": {
        "id": "5sOAbFvvq6vh",
        "colab_type": "text"
      },
      "source": [
        "6. reverse3\n",
        "\n",
        "Given an array of ints length 3, return a new array with the elements in reverse order, so {1, 2, 3} becomes {3, 2, 1}.\n",
        "\n",
        "\n",
        "* reverse3([1, 2, 3]) → [3, 2, 1]\n",
        "* reverse3([5, 11, 9]) → [9, 11, 5]\n",
        "* reverse3([7, 0, 0]) → [0, 0, 7]\n"
      ]
    },
    {
      "cell_type": "code",
      "metadata": {
        "id": "vi68fJbEq9GO",
        "colab_type": "code",
        "colab": {}
      },
      "source": [
        ""
      ],
      "execution_count": 0,
      "outputs": []
    },
    {
      "cell_type": "markdown",
      "metadata": {
        "id": "3WbBu83pq9yU",
        "colab_type": "text"
      },
      "source": [
        "7. max_end3\n",
        "\n",
        "Given an array of ints length 3, figure out which is larger, the first or last element in the array, and set all the other elements to be that value. Return the changed array.\n",
        "\n",
        "\n",
        "* max_end3([1, 2, 3]) → [3, 3, 3]\n",
        "* max_end3([11, 5, 9]) → [11, 11, 11]\n",
        "* max_end3([2, 11, 3]) → [3, 3, 3]"
      ]
    },
    {
      "cell_type": "code",
      "metadata": {
        "id": "uOqBtnnUq_04",
        "colab_type": "code",
        "colab": {}
      },
      "source": [
        ""
      ],
      "execution_count": 0,
      "outputs": []
    },
    {
      "cell_type": "markdown",
      "metadata": {
        "id": "1lKaQSZhrAhJ",
        "colab_type": "text"
      },
      "source": [
        "8. sum2\n",
        "\n",
        "Given an array of ints, return the sum of the first 2 elements in the array. If the array length is less than 2, just sum up the elements that exist, returning 0 if the array is length 0.\n",
        "\n",
        "\n",
        "* sum2([1, 2, 3]) → 3\n",
        "* sum2([1, 1]) → 2\n",
        "* sum2([1, 1, 1, 1]) → 2"
      ]
    },
    {
      "cell_type": "code",
      "metadata": {
        "id": "FmGFkmkurCwM",
        "colab_type": "code",
        "colab": {}
      },
      "source": [
        ""
      ],
      "execution_count": 0,
      "outputs": []
    },
    {
      "cell_type": "markdown",
      "metadata": {
        "id": "0peHNEGErDm7",
        "colab_type": "text"
      },
      "source": [
        "9. middle_way\n",
        "\n",
        "Given 2 int arrays, a and b, each length 3, return a new array length 2 containing their middle elements.\n",
        "\n",
        "\n",
        "* middle_way([1, 2, 3], [4, 5, 6]) → [2, 5]\n",
        "* middle_way([7, 7, 7], [3, 8, 0]) → [7, 8]\n",
        "* middle_way([5, 2, 9], [1, 4, 5]) → [2, 4]"
      ]
    },
    {
      "cell_type": "code",
      "metadata": {
        "id": "B1IBM5yArFzR",
        "colab_type": "code",
        "colab": {}
      },
      "source": [
        ""
      ],
      "execution_count": 0,
      "outputs": []
    },
    {
      "cell_type": "markdown",
      "metadata": {
        "id": "f0sejbhOrGS0",
        "colab_type": "text"
      },
      "source": [
        "10. make_ends\n",
        "\n",
        "Given an array of ints, return a new array length 2 containing the first and last elements from the original array. The original array will be length 1 or more.\n",
        "\n",
        "\n",
        "* make_ends([1, 2, 3]) → [1, 3]\n",
        "* make_ends([1, 2, 3, 4]) → [1, 4]\n",
        "* make_ends([7, 4, 6, 2]) → [7, 2]"
      ]
    },
    {
      "cell_type": "code",
      "metadata": {
        "id": "TgsWa7vrrIcw",
        "colab_type": "code",
        "colab": {}
      },
      "source": [
        ""
      ],
      "execution_count": 0,
      "outputs": []
    },
    {
      "cell_type": "markdown",
      "metadata": {
        "id": "bEXHyyzfrJNP",
        "colab_type": "text"
      },
      "source": [
        "11. has23\n",
        "\n",
        "Given an int array length 2, return True if it contains a 2 or a 3.\n",
        "\n",
        "\n",
        "* has23([2, 5]) → True\n",
        "* has23([4, 3]) → True\n",
        "* has23([4, 5]) → False"
      ]
    },
    {
      "cell_type": "code",
      "metadata": {
        "id": "IlcT1VGYrLFv",
        "colab_type": "code",
        "colab": {}
      },
      "source": [
        ""
      ],
      "execution_count": 0,
      "outputs": []
    },
    {
      "cell_type": "markdown",
      "metadata": {
        "id": "Bfa_KyXYrRoQ",
        "colab_type": "text"
      },
      "source": [
        "\n",
        "\n",
        "---\n",
        "\n",
        "**Solutions for Logic-1**\n",
        "\n",
        "Basic boolean logic puzzles -- if else and or not\n",
        "\n",
        "1. cigar_party\n",
        "\n",
        "When squirrels get together for a party, they like to have cigars. A squirrel party is successful when the number of cigars is between 40 and 60, inclusive. Unless it is the weekend, in which case there is no upper bound on the number of cigars. Return True if the party with the given values is successful, or False otherwise.\n",
        "\n",
        "\n",
        "* cigar_party(30, False) → False\n",
        "* cigar_party(50, False) → True\n",
        "* cigar_party(70, True) → True\n"
      ]
    },
    {
      "cell_type": "code",
      "metadata": {
        "id": "IyqleCeashPV",
        "colab_type": "code",
        "colab": {}
      },
      "source": [
        ""
      ],
      "execution_count": 0,
      "outputs": []
    },
    {
      "cell_type": "markdown",
      "metadata": {
        "id": "imYTL0Hxsh5N",
        "colab_type": "text"
      },
      "source": [
        "2. date_fashion\n",
        "\n",
        "You and your date are trying to get a table at a restaurant. The parameter \"you\" is the stylishness of your clothes, in the range 0..10, and \"date\" is the stylishness of your date's clothes. The result getting the table is encoded as an int value with 0=no, 1=maybe, 2=yes. If either of you is very stylish, 8 or more, then the result is 2 (yes). With the exception that if either of you has style of 2 or less, then the result is 0 (no). Otherwise the result is 1 (maybe).\n",
        "\n",
        "\n",
        "* date_fashion(5, 10) → 2\n",
        "* date_fashion(5, 2) → 0\n",
        "* date_fashion(5, 5) → 1"
      ]
    },
    {
      "cell_type": "code",
      "metadata": {
        "id": "SI2ufv-dskhN",
        "colab_type": "code",
        "colab": {}
      },
      "source": [
        ""
      ],
      "execution_count": 0,
      "outputs": []
    },
    {
      "cell_type": "markdown",
      "metadata": {
        "id": "Y_VsKZ0kslKT",
        "colab_type": "text"
      },
      "source": [
        "3. squirrel_play\n",
        "\n",
        "The squirrels in Palo Alto spend most of the day playing. In particular, they play if the temperature is between 60 and 90 (inclusive). Unless it is summer, then the upper limit is 100 instead of 90. Given an int temperature and a boolean is_summer, return True if the squirrels play and False otherwise.\n",
        "\n",
        "\n",
        "* squirrel_play(70, False) → True\n",
        "* squirrel_play(95, False) → False\n",
        "* squirrel_play(95, True) → True"
      ]
    },
    {
      "cell_type": "code",
      "metadata": {
        "id": "_DzkuvLgsnM5",
        "colab_type": "code",
        "colab": {}
      },
      "source": [
        ""
      ],
      "execution_count": 0,
      "outputs": []
    },
    {
      "cell_type": "markdown",
      "metadata": {
        "id": "LC7jT5lGsnhs",
        "colab_type": "text"
      },
      "source": [
        "4. caught_speeding\n",
        "\n",
        "You are driving a little too fast, and a police officer stops you. Write code to compute the result, encoded as an int value: 0=no ticket, 1=small ticket, 2=big ticket. If speed is 60 or less, the result is 0. If speed is between 61 and 80 inclusive, the result is 1. If speed is 81 or more, the result is 2. Unless it is your birthday -- on that day, your speed can be 5 higher in all cases.\n",
        "\n",
        "\n",
        "* caught_speeding(60, False) → 0\n",
        "* caught_speeding(65, False) → 1\n",
        "* caught_speeding(65, True) → 0"
      ]
    },
    {
      "cell_type": "code",
      "metadata": {
        "id": "gWirw5_1spi5",
        "colab_type": "code",
        "colab": {}
      },
      "source": [
        ""
      ],
      "execution_count": 0,
      "outputs": []
    },
    {
      "cell_type": "markdown",
      "metadata": {
        "id": "2WONK_5VsqG8",
        "colab_type": "text"
      },
      "source": [
        "5. sorta_sum\n",
        "\n",
        "Given 2 ints, a and b, return their sum. However, sums in the range 10..19 inclusive, are forbidden, so in that case just return 20.\n",
        "\n",
        "\n",
        "* sorta_sum(3, 4) → 7\n",
        "* sorta_sum(9, 4) → 20\n",
        "* sorta_sum(10, 11) → 21"
      ]
    },
    {
      "cell_type": "code",
      "metadata": {
        "id": "12a6iVE1ssKl",
        "colab_type": "code",
        "colab": {}
      },
      "source": [
        ""
      ],
      "execution_count": 0,
      "outputs": []
    },
    {
      "cell_type": "markdown",
      "metadata": {
        "id": "0IK71Q9JstAE",
        "colab_type": "text"
      },
      "source": [
        "6. alarm_clock\n",
        "\n",
        "Given a day of the week encoded as 0=Sun, 1=Mon, 2=Tue, ...6=Sat, and a boolean indicating if we are on vacation, return a string of the form \"7:00\" indicating when the alarm clock should ring. Weekdays, the alarm should be \"7:00\" and on the weekend it should be \"10:00\". Unless we are on vacation -- then on weekdays it should be \"10:00\" and weekends it should be \"off\".\n",
        "\n",
        "\n",
        "* alarm_clock(1, False) → '7:00'\n",
        "* alarm_clock(5, False) → '7:00'\n",
        "* alarm_clock(0, False) → '10:00'"
      ]
    },
    {
      "cell_type": "code",
      "metadata": {
        "id": "PfOfunaHsvZ8",
        "colab_type": "code",
        "colab": {}
      },
      "source": [
        ""
      ],
      "execution_count": 0,
      "outputs": []
    },
    {
      "cell_type": "markdown",
      "metadata": {
        "id": "MxMktz5yswAi",
        "colab_type": "text"
      },
      "source": [
        "\n",
        "7. love6\n",
        "\n",
        "The number 6 is a truly great number. Given two int values, a and b, return True if either one is 6. Or if their sum or difference is 6. Note: the function abs(num) computes the absolute value of a number.\n",
        "\n",
        "\n",
        "* love6(6, 4) → True\n",
        "* love6(4, 5) → False\n",
        "* love6(1, 5) → True"
      ]
    },
    {
      "cell_type": "code",
      "metadata": {
        "id": "tIwfh7wJsyG1",
        "colab_type": "code",
        "colab": {}
      },
      "source": [
        ""
      ],
      "execution_count": 0,
      "outputs": []
    },
    {
      "cell_type": "markdown",
      "metadata": {
        "id": "PQfQkysNsytj",
        "colab_type": "text"
      },
      "source": [
        "8. in1to10\n",
        "\n",
        "Given a number n, return True if n is in the range 1..10, inclusive. Unless outside_mode is True, in which case return True if the number is less or equal to 1, or greater or equal to 10.\n",
        "\n",
        "\n",
        "* in1to10(5, False) → True\n",
        "* in1to10(11, False) → False\n",
        "* in1to10(11, True) → True"
      ]
    },
    {
      "cell_type": "code",
      "metadata": {
        "id": "Nhh6lpaTs0ny",
        "colab_type": "code",
        "outputId": "de63e705-d3b1-49aa-bd08-adb0e9943a3d",
        "colab": {
          "base_uri": "https://localhost:8080/",
          "height": 68
        }
      },
      "source": [
        "def in1to10(n, outside_mode):\n",
        "  if outside_mode:\n",
        "    if n <= 1 or n >= 10:\n",
        "      return True\n",
        "  if n >= 1 and n <= 10:\n",
        "    return True\n",
        "  else:\n",
        "    return False\n",
        "  \n",
        "print(in1to10(5, False))\n",
        "print(in1to10(11, False))\n",
        "print(in1to10(11, True))\n",
        "  "
      ],
      "execution_count": 0,
      "outputs": [
        {
          "output_type": "stream",
          "text": [
            "True\n",
            "False\n",
            "True\n"
          ],
          "name": "stdout"
        }
      ]
    },
    {
      "cell_type": "markdown",
      "metadata": {
        "id": "sb2f4xD8s1JZ",
        "colab_type": "text"
      },
      "source": [
        "9. near_ten\n",
        "\n",
        "Given a non-negative number \"num\", return True if num is within 2 of a multiple of 10. Note: (a % b) is the remainder of dividing a by b, so (7 % 5) is 2. See also: Introduction to Mod\n",
        "\n",
        "\n",
        "* near_ten(12) → True\n",
        "* near_ten(17) → False\n",
        "* near_ten(19) → True\n"
      ]
    },
    {
      "cell_type": "code",
      "metadata": {
        "id": "XRHK6lLws26k",
        "colab_type": "code",
        "outputId": "480bef79-a745-4d3d-d5d0-af2115af4079",
        "colab": {
          "base_uri": "https://localhost:8080/",
          "height": 68
        }
      },
      "source": [
        "def near_ten(num):\n",
        "  if((num % 10 <= 2) or (num % 10 >= 8)):\n",
        "    return True\n",
        "  else:\n",
        "    return False\n",
        "  \n",
        "print(near_ten(12))\n",
        "print(near_ten(17))\n",
        "print(near_ten(19))\n",
        "\n"
      ],
      "execution_count": 0,
      "outputs": [
        {
          "output_type": "stream",
          "text": [
            "True\n",
            "False\n",
            "True\n"
          ],
          "name": "stdout"
        }
      ]
    },
    {
      "cell_type": "markdown",
      "metadata": {
        "id": "1-s6G7qvtoR4",
        "colab_type": "text"
      },
      "source": [
        "\n",
        "\n",
        "---\n",
        "\n",
        "**Solutions for Logic-2**\n",
        "\n",
        "Medium boolean logic puzzles -- if else and or not\n",
        "\n",
        "1. make_bricks\n",
        "\n",
        "\n",
        "We want to make a row of bricks that is goal inches long. We have a number of small bricks (1 inch each) and big bricks (5 inches each). Return True if it is possible to make the goal by choosing from the given bricks. This is a little harder than it looks and can be done without any loops. See also: Introduction to MakeBricks (https://codingbat.com/doc/practice/makebricks-solution-code.html)\n",
        "\n",
        "\n",
        "* make_bricks(3, 1, 8) → True\n",
        "* make_bricks(3, 1, 9) → False\n",
        "* make_bricks(3, 2, 10) → True"
      ]
    },
    {
      "cell_type": "code",
      "metadata": {
        "id": "7lFRy4I0uGJZ",
        "colab_type": "code",
        "colab": {}
      },
      "source": [
        ""
      ],
      "execution_count": 0,
      "outputs": []
    },
    {
      "cell_type": "markdown",
      "metadata": {
        "id": "L2_MRSGMt2lo",
        "colab_type": "text"
      },
      "source": [
        "2. lone_sum\n",
        "\n",
        "Given 3 int values, a b c, return their sum. However, if one of the values is the same as another of the values, it does not count towards the sum.\n",
        "\n",
        "\n",
        "* lone_sum(1, 2, 3) → 6\n",
        "* lone_sum(3, 2, 3) → 2\n",
        "* lone_sum(3, 3, 3) → 0"
      ]
    },
    {
      "cell_type": "code",
      "metadata": {
        "id": "s-VngZ8zuFtc",
        "colab_type": "code",
        "outputId": "a77657ac-db72-4b9c-9f40-d120870b0d74",
        "colab": {
          "base_uri": "https://localhost:8080/",
          "height": 68
        }
      },
      "source": [
        "def lone_sum(a,b,c):\n",
        "  if a==b==c:\n",
        "    return 0\n",
        "  if b == c:\n",
        "    return a\n",
        "  if a == c:\n",
        "    return b\n",
        "  if a == b:\n",
        "    return c\n",
        "  return a + b + c\n",
        "\n",
        "print(lone_sum(1, 2, 3))\n",
        "print(lone_sum(3, 2, 3))\n",
        "print(lone_sum(3, 3, 3))"
      ],
      "execution_count": 0,
      "outputs": [
        {
          "output_type": "stream",
          "text": [
            "6\n",
            "2\n",
            "0\n"
          ],
          "name": "stdout"
        }
      ]
    },
    {
      "cell_type": "markdown",
      "metadata": {
        "id": "WIw4FfDVt4M1",
        "colab_type": "text"
      },
      "source": [
        "3. lucky_sum\n",
        "\n",
        "\n",
        "Given 3 int values, a b c, return their sum. However, if one of the values is 13 then it does not count towards the sum and values to its right do not count. So for example, if b is 13, then both b and c do not count.\n",
        "\n",
        "\n",
        "* lucky_sum(1, 2, 3) → 6\n",
        "* lucky_sum(1, 2, 13) → 3\n",
        "* lucky_sum(1, 13, 3) → 1"
      ]
    },
    {
      "cell_type": "code",
      "metadata": {
        "id": "lG6eMsxtuFQd",
        "colab_type": "code",
        "outputId": "6e84f7f9-046e-4d8d-e55b-f01d0d52deaf",
        "colab": {
          "base_uri": "https://localhost:8080/",
          "height": 68
        }
      },
      "source": [
        "def lucky_sum(a,b,c):\n",
        "  if a == 13:\n",
        "    return 0\n",
        "  if b == 13:\n",
        "    return a\n",
        "  if c == 13:\n",
        "    return a + b\n",
        "  return a + b + c\n",
        "\n",
        "print(lucky_sum(1, 2, 3))\n",
        "print(lucky_sum(1, 2, 13))\n",
        "print(lucky_sum(1, 13, 3))"
      ],
      "execution_count": 0,
      "outputs": [
        {
          "output_type": "stream",
          "text": [
            "6\n",
            "3\n",
            "1\n"
          ],
          "name": "stdout"
        }
      ]
    },
    {
      "cell_type": "markdown",
      "metadata": {
        "id": "3vonV7NOt60U",
        "colab_type": "text"
      },
      "source": [
        "4. no_teen_sum\n",
        "\n",
        "\n",
        "Given 3 int values, a b c, return their sum. However, if any of the values is a teen -- in the range 13..19 inclusive -- then that value counts as 0, except 15 and 16 do not count as a teens. Write a separate helper \"def fix_teen(n):\"that takes in an int value and returns that value fixed for the teen rule. In this way, you avoid repeating the teen code 3 times (i.e. \"decomposition\"). Define the helper below and at the same indent level as the main no_teen_sum().\n",
        "\n",
        "\n",
        "* no_teen_sum(1, 2, 3) → 6\n",
        "* no_teen_sum(2, 13, 1) → 3\n",
        "* no_teen_sum(2, 1, 14) → 3"
      ]
    },
    {
      "cell_type": "code",
      "metadata": {
        "id": "_SZXZ9ZtuEvL",
        "colab_type": "code",
        "outputId": "05727339-eb8b-4af3-dfc2-2403c82a6f40",
        "colab": {
          "base_uri": "https://localhost:8080/",
          "height": 68
        }
      },
      "source": [
        "def no_teen_sum(a, b, c):\n",
        "  return fix_teen(a) + fix_teen(b) + fix_teen(c)\n",
        "  \n",
        "def fix_teen(n):\n",
        "  if n in [13,14,17,18,19]:\n",
        "    return 0\n",
        "  return n\n",
        "\n",
        "print(no_teen_sum(1, 2, 3))\n",
        "print(no_teen_sum(2, 13, 1))\n",
        "print(no_teen_sum(2, 1, 14))"
      ],
      "execution_count": 0,
      "outputs": [
        {
          "output_type": "stream",
          "text": [
            "6\n",
            "3\n",
            "3\n"
          ],
          "name": "stdout"
        }
      ]
    },
    {
      "cell_type": "markdown",
      "metadata": {
        "id": "tbCst-xEt9MB",
        "colab_type": "text"
      },
      "source": [
        "5. round_sum\n",
        "\n",
        "\n",
        "For this problem, we'll round an int value up to the next multiple of 10 if its rightmost digit is 5 or more, so 15 rounds up to 20. Alternately, round down to the previous multiple of 10 if its rightmost digit is less than 5, so 12 rounds down to 10. Given 3 ints, a b c, return the sum of their rounded values. To avoid code repetition, write a separate helper \"def round10(num):\" and call it 3 times. Write the helper entirely below and at the same indent level as round_sum().\n",
        "\n",
        "\n",
        "* round_sum(16, 17, 18) → 60\n",
        "* round_sum(12, 13, 14) → 30\n",
        "* round_sum(6, 4, 4) → 10"
      ]
    },
    {
      "cell_type": "code",
      "metadata": {
        "id": "Mw4oBFdBuELA",
        "colab_type": "code",
        "outputId": "9c110643-2b4e-4b2a-924a-345c6ea19cab",
        "colab": {
          "base_uri": "https://localhost:8080/",
          "height": 68
        }
      },
      "source": [
        "def round_sum(a,b,c):\n",
        "  return round10(a) + round10(b) + round10(c)\n",
        "  \n",
        "  \n",
        "def round10(n):\n",
        "  if n%10 >= 5:\n",
        "    return n + (10 - n%10)\n",
        "  else:\n",
        "    return n - (n%10)\n",
        "\n",
        "print(round_sum(16, 17, 18))\n",
        "print(round_sum(12, 13, 14))\n",
        "print(round_sum(6, 4, 4))\n"
      ],
      "execution_count": 0,
      "outputs": [
        {
          "output_type": "stream",
          "text": [
            "60\n",
            "30\n",
            "10\n"
          ],
          "name": "stdout"
        }
      ]
    },
    {
      "cell_type": "markdown",
      "metadata": {
        "id": "7VfF_1cEt-Ca",
        "colab_type": "text"
      },
      "source": [
        "6. close_far\n",
        "\n",
        "\n",
        "Given three ints, a b c, return True if one of b or c is \"close\" (differing from a by at most 1), while the other is \"far\", differing from both other values by 2 or more. Note: abs(num) computes the absolute value of a number.\n",
        "\n",
        "\n",
        "* close_far(1, 2, 10) → True\n",
        "* close_far(1, 2, 3) → False\n",
        "* close_far(4, 1, 3) → True"
      ]
    },
    {
      "cell_type": "code",
      "metadata": {
        "id": "pqi0_YfBuDcS",
        "colab_type": "code",
        "outputId": "de53b5ac-49a4-430d-ba22-906d4ba3f928",
        "colab": {
          "base_uri": "https://localhost:8080/",
          "height": 68
        }
      },
      "source": [
        "def close_far(a,b,c):\n",
        "  if is_close(a,b) and is_far(b,c) and is_far(a,c):\n",
        "    return True\n",
        "  if is_close(a,c) and is_far(a,b) and is_far(b,c):\n",
        "    return True\n",
        "  if is_close(b,c) and is_far(a,b) and is_far(a,c):\n",
        "    return True\n",
        "  else:\n",
        "    return False\n",
        "   \n",
        "  \n",
        "def is_close(i,j):\n",
        "  if(abs(i-j) <= 1):\n",
        "    return True\n",
        "  else:\n",
        "    return False\n",
        "  \n",
        "def is_far(i,j):\n",
        "  if(abs(i-j) >= 2):\n",
        "    return True\n",
        "  else:\n",
        "    return False\n",
        "  \n",
        "print(close_far(1, 2, 10))\n",
        "print(close_far(1, 2, 3))\n",
        "print(close_far(4, 1, 3))"
      ],
      "execution_count": 0,
      "outputs": [
        {
          "output_type": "stream",
          "text": [
            "True\n",
            "False\n",
            "True\n"
          ],
          "name": "stdout"
        }
      ]
    },
    {
      "cell_type": "markdown",
      "metadata": {
        "id": "t3wK8gsnuAwa",
        "colab_type": "text"
      },
      "source": [
        "7. make_chocolate\n",
        "\n",
        "\n",
        "We want make a package of goal kilos of chocolate. We have small bars (1 kilo each) and big bars (5 kilos each). Return the number of small bars to use, assuming we always use big bars before small bars. Return -1 if it can't be done.\n",
        "\n",
        "\n",
        "* make_chocolate(4, 1, 9) → 4\n",
        "* make_chocolate(4, 1, 10) → -1\n",
        "* make_chocolate(4, 1, 7) → 2"
      ]
    },
    {
      "cell_type": "code",
      "metadata": {
        "id": "mtUJ78N6uCng",
        "colab_type": "code",
        "colab": {}
      },
      "source": [
        ""
      ],
      "execution_count": 0,
      "outputs": []
    },
    {
      "cell_type": "markdown",
      "metadata": {
        "id": "lUtXo97YuHxJ",
        "colab_type": "text"
      },
      "source": [
        "\n",
        "\n",
        "---\n",
        "\n",
        "**Solutions for String-2**\n",
        "\n",
        "Medium python string problems -- 1 loop.. Use + to combine strings, len(str) is the number of chars in a String, str[i:j] extracts the substring starting at index i and running up to but not including index j.\n",
        "\n",
        "1. double_char\n",
        "\n",
        "\n",
        "Given a string, return a string where for every char in the original, there are two chars.\n",
        "\n",
        "* double_char('The') → 'TThhee'\n",
        "* double_char('AAbb') → 'AAAAbbbb'\n",
        "* double_char('Hi-There') → 'HHii--TThheerree'"
      ]
    },
    {
      "cell_type": "code",
      "metadata": {
        "id": "TOIY2lW-w5F5",
        "colab_type": "code",
        "outputId": "56d35358-b46b-421c-f115-9fa9d1423545",
        "colab": {
          "base_uri": "https://localhost:8080/",
          "height": 68
        }
      },
      "source": [
        "def double_char(s):\n",
        "  out = ''\n",
        "  for char in s:\n",
        "    out += char*2\n",
        "  return out\n",
        "\n",
        "print(double_char('The'))\n",
        "print(double_char('AAbb'))\n",
        "print(double_char('Hi-There'))"
      ],
      "execution_count": 0,
      "outputs": [
        {
          "output_type": "stream",
          "text": [
            "TThhee\n",
            "AAAAbbbb\n",
            "HHii--TThheerree\n"
          ],
          "name": "stdout"
        }
      ]
    },
    {
      "cell_type": "markdown",
      "metadata": {
        "id": "2tqrFpK2utWZ",
        "colab_type": "text"
      },
      "source": [
        "2. count_hi\n",
        "\n",
        "\n",
        "Return the number of times that the string \"hi\" appears anywhere in the given string.\n",
        "\n",
        "\n",
        "* count_hi('abc hi ho') → 1\n",
        "* count_hi('ABChi hi') → 2\n",
        "* count_hi('hihi') → 2\n"
      ]
    },
    {
      "cell_type": "code",
      "metadata": {
        "id": "eBDpf1tew51r",
        "colab_type": "code",
        "outputId": "c273bbeb-f957-4194-d8bf-3e43c0da0b67",
        "colab": {
          "base_uri": "https://localhost:8080/",
          "height": 68
        }
      },
      "source": [
        "def count_hi(s):\n",
        "  count = 0\n",
        "  stringlen = len(s)-1\n",
        "  for i in range(stringlen):\n",
        "    if s[i:i+2] == \"hi\":\n",
        "      count += 1\n",
        "  return count\n",
        "\n",
        "print(count_hi('abc hi ho'))\n",
        "print(count_hi('ABChi hi'))\n",
        "print(count_hi('hihi'))\n"
      ],
      "execution_count": 0,
      "outputs": [
        {
          "output_type": "stream",
          "text": [
            "1\n",
            "2\n",
            "2\n"
          ],
          "name": "stdout"
        }
      ]
    },
    {
      "cell_type": "markdown",
      "metadata": {
        "id": "RqKjVy9Buu06",
        "colab_type": "text"
      },
      "source": [
        "3. cat_dog\n",
        "\n",
        "Return True if the string \"cat\" and \"dog\" appear the same number of times in the given string.\n",
        "\n",
        "\n",
        "* cat_dog('catdog') → True\n",
        "* cat_dog('catcat') → False\n",
        "* cat_dog('1cat1cadodog') → True"
      ]
    },
    {
      "cell_type": "code",
      "metadata": {
        "id": "nB0IdmGyw6aR",
        "colab_type": "code",
        "outputId": "796b957a-3b85-42ee-d908-bc8ad8918cff",
        "colab": {
          "base_uri": "https://localhost:8080/",
          "height": 68
        }
      },
      "source": [
        "def cat_dog(str):\n",
        "  count_cat = 0\n",
        "  count_dog = 0\n",
        "  for i in range(len(str)-2):\n",
        "    if str[i:i+3] == 'dog':\n",
        "      count_dog += 1\n",
        "    if str[i:i+3] == 'cat':\n",
        "      count_cat += 1\n",
        "   \n",
        "  if count_cat == count_dog:\n",
        "    return True\n",
        "  else:\n",
        "    return False\n",
        "  \n",
        "print(cat_dog('catdog'))\n",
        "print(cat_dog('catcat'))\n",
        "print(cat_dog('1cat1cadodog'))\n",
        "\n",
        " "
      ],
      "execution_count": 0,
      "outputs": [
        {
          "output_type": "stream",
          "text": [
            "True\n",
            "False\n",
            "True\n"
          ],
          "name": "stdout"
        }
      ]
    },
    {
      "cell_type": "markdown",
      "metadata": {
        "id": "dZg3Q7-ruxG2",
        "colab_type": "text"
      },
      "source": [
        "4. count_code\n",
        "\n",
        "Return the number of times that the string \"code\" appears anywhere in the given string, except we'll accept any letter for the 'd', so \"cope\" and \"cooe\" count.\n",
        "\n",
        "\n",
        "* count_code('aaacodebbb') → 1\n",
        "* count_code('codexxcode') → 2\n",
        "* count_code('cozexxcope') → 2"
      ]
    },
    {
      "cell_type": "code",
      "metadata": {
        "id": "sbCBlsN0w6_d",
        "colab_type": "code",
        "outputId": "99c2a3c5-ae9a-42eb-a03d-0bdae93d20ec",
        "colab": {
          "base_uri": "https://localhost:8080/",
          "height": 68
        }
      },
      "source": [
        "def count_code(str):\n",
        "  count = 0\n",
        "  for i in range(0, len(str)-3):\n",
        "    if str[i:i+2] == 'co' and str[i+3] == 'e':\n",
        "      count += 1\n",
        "  return count\n",
        "\n",
        "print(count_code('aaacodebbb'))\n",
        "print(count_code('codexxcode'))\n",
        "print(count_code('cozexxcope'))\n"
      ],
      "execution_count": 0,
      "outputs": [
        {
          "output_type": "stream",
          "text": [
            "1\n",
            "2\n",
            "2\n"
          ],
          "name": "stdout"
        }
      ]
    },
    {
      "cell_type": "markdown",
      "metadata": {
        "id": "X-pnK1BPuymV",
        "colab_type": "text"
      },
      "source": [
        "5. end_other\n",
        "\n",
        "Given two strings, return True if either of the strings appears at the very end of the other string, ignoring upper/lower case differences (in other words, the computation should not be \"case sensitive\"). Note: s.lower() returns the lowercase version of a string.\n",
        "\n",
        "\n",
        "* end_other('Hiabc', 'abc') → True\n",
        "* end_other('AbC', 'HiaBc') → True\n",
        "* end_other('abc', 'abXabc') → True"
      ]
    },
    {
      "cell_type": "code",
      "metadata": {
        "id": "fXg0nRtqw7lQ",
        "colab_type": "code",
        "outputId": "a503c846-bfa8-4945-8d04-75308b658903",
        "colab": {
          "base_uri": "https://localhost:8080/",
          "height": 68
        }
      },
      "source": [
        "def end_other(a, b):\n",
        "  a = a.lower()\n",
        "  b = b.lower()\n",
        "  return a[-(len(b)):] == b or a == b[-(len(a)):] \n",
        "\n",
        "print(end_other('Hiabc', 'abc'))\n",
        "print(end_other('AbC', 'HiaBc'))\n",
        "print(end_other('abc', 'abXabc'))\n"
      ],
      "execution_count": 0,
      "outputs": [
        {
          "output_type": "stream",
          "text": [
            "True\n",
            "True\n",
            "True\n"
          ],
          "name": "stdout"
        }
      ]
    },
    {
      "cell_type": "markdown",
      "metadata": {
        "id": "3wT8HKhju0O4",
        "colab_type": "text"
      },
      "source": [
        "6. xyz_there\n",
        "\n",
        "Return True if the given string contains an appearance of \"xyz\" where the xyz is not directly preceeded by a period (.). So \"xxyz\" counts but \"x.xyz\" does not.\n",
        "\n",
        "* xyz_there('abcxyz') → True\n",
        "* xyz_there('abc.xyz') → False\n",
        "* xyz_there('xyz.abc') → True"
      ]
    },
    {
      "cell_type": "code",
      "metadata": {
        "id": "XyHa9OtYw8Vj",
        "colab_type": "code",
        "outputId": "bc87de45-c8e5-4fe5-b464-f1d8edebb81a",
        "colab": {
          "base_uri": "https://localhost:8080/",
          "height": 68
        }
      },
      "source": [
        "def xyz_there(str):\n",
        "  for i in range(len(str)):\n",
        "    if str[i] != '.' and str[i+1:i+4] == 'xyz':\n",
        "      return True\n",
        "  if str[0:3] == 'xyz':\n",
        "    return True\n",
        "  return False\n",
        "\n",
        "print(xyz_there('abcxyz'))\n",
        "print(xyz_there('abc.xyz'))\n",
        "print(xyz_there('xyz.abc'))\n"
      ],
      "execution_count": 0,
      "outputs": [
        {
          "output_type": "stream",
          "text": [
            "True\n",
            "False\n",
            "True\n"
          ],
          "name": "stdout"
        }
      ]
    },
    {
      "cell_type": "markdown",
      "metadata": {
        "id": "GorJ99r0u2A6",
        "colab_type": "text"
      },
      "source": [
        "\n",
        "\n",
        "---\n",
        "\n",
        "**Solutions for List-2**\n",
        "\n",
        "1. count_evens\n",
        "\n",
        "Return the number of even ints in the given array. Note: the % \"mod\" operator computes the remainder, e.g. 5 % 2 is 1.\n",
        "\n",
        "\n",
        "* count_evens([2, 1, 2, 3, 4]) → 3\n",
        "* count_evens([2, 2, 0]) → 3\n",
        "* count_evens([1, 3, 5]) → 0"
      ]
    },
    {
      "cell_type": "code",
      "metadata": {
        "id": "Tue9LcvXw8_E",
        "colab_type": "code",
        "outputId": "7f22743d-92af-4986-950f-f7aaa6774672",
        "colab": {
          "base_uri": "https://localhost:8080/",
          "height": 68
        }
      },
      "source": [
        "def count_evens(nums):\n",
        "  count = 0\n",
        "  for element in nums:\n",
        "    if element % 2 == 0:\n",
        "      count += 1\n",
        "  return count\n",
        "\n",
        "print(count_evens([2, 1, 2, 3, 4]))\n",
        "print(count_evens([2, 2, 0]))\n",
        "print(count_evens([1, 3, 5]))"
      ],
      "execution_count": 0,
      "outputs": [
        {
          "output_type": "stream",
          "text": [
            "3\n",
            "3\n",
            "0\n"
          ],
          "name": "stdout"
        }
      ]
    },
    {
      "cell_type": "markdown",
      "metadata": {
        "id": "TG73VGUxviE0",
        "colab_type": "text"
      },
      "source": [
        "2. big_diff\n",
        "\n",
        "Given an array length 1 or more of ints, return the difference between the largest and smallest values in the array. Note: the built-in min(v1, v2) and max(v1, v2) functions return the smaller or larger of two values.\n",
        "\n",
        "\n",
        "* big_diff([10, 3, 5, 6]) → 7\n",
        "* big_diff([7, 2, 10, 9]) → 8\n",
        "* big_diff([2, 10, 7, 2]) → 8"
      ]
    },
    {
      "cell_type": "code",
      "metadata": {
        "id": "gO83WaG_w9lZ",
        "colab_type": "code",
        "outputId": "5f37a845-e72c-4825-b53d-918d4b932de6",
        "colab": {
          "base_uri": "https://localhost:8080/",
          "height": 68
        }
      },
      "source": [
        "def big_diff(nums):\n",
        "  return max(nums) - min(nums)\n",
        "\n",
        "print(big_diff([10, 3, 5, 6]))\n",
        "print(big_diff([7, 2, 10, 9]))\n",
        "print(big_diff([2, 10, 7, 2]))\n"
      ],
      "execution_count": 0,
      "outputs": [
        {
          "output_type": "stream",
          "text": [
            "7\n",
            "8\n",
            "8\n"
          ],
          "name": "stdout"
        }
      ]
    },
    {
      "cell_type": "markdown",
      "metadata": {
        "id": "sx6JnpTXvkN1",
        "colab_type": "text"
      },
      "source": [
        "3. centered_average\n",
        "\n",
        "\n",
        "Return the \"centered\" average of an array of ints, which we'll say is the mean average of the values, except ignoring the largest and smallest values in the array. If there are multiple copies of the smallest value, ignore just one copy, and likewise for the largest value. Use int division to produce the final average. You may assume that the array is length 3 or more.\n",
        "\n",
        "\n",
        "* centered_average([1, 2, 3, 4, 100]) → 3\n",
        "* centered_average([1, 1, 5, 5, 10, 8, 7]) → 5\n",
        "* centered_average([-10, -4, -2, -4, -2, 0]) → -3"
      ]
    },
    {
      "cell_type": "code",
      "metadata": {
        "id": "Bf2MZdFgw-QG",
        "colab_type": "code",
        "outputId": "36a05f99-b037-476a-dafd-4e8cdf45007f",
        "colab": {
          "base_uri": "https://localhost:8080/",
          "height": 68
        }
      },
      "source": [
        "def centered_average(nums):\n",
        "  return (sum(nums) - min(nums) - max(nums)) / (len(nums)-2)\n",
        "\n",
        "print(round(centered_average([1, 2, 3, 4, 100])))\n",
        "print(round(centered_average([1, 1, 5, 5, 10, 8, 7])))\n",
        "print(round(centered_average([-10, -4, -2, -4, -2, 0])))\n"
      ],
      "execution_count": 0,
      "outputs": [
        {
          "output_type": "stream",
          "text": [
            "3\n",
            "5\n",
            "-3\n"
          ],
          "name": "stdout"
        }
      ]
    },
    {
      "cell_type": "markdown",
      "metadata": {
        "id": "flt4O5hEvmDc",
        "colab_type": "text"
      },
      "source": [
        "4. sum13\n",
        "\n",
        "\n",
        "Return the sum of the numbers in the array, returning 0 for an empty array. Except the number 13 is very unlucky, so it does not count and numbers that come immediately after a 13 also do not count.\n",
        "\n",
        "\n",
        "* sum13([1, 2, 2, 1]) → 6\n",
        "* sum13([1, 1]) → 2\n",
        "* sum13([1, 2, 2, 1, 13]) → 6"
      ]
    },
    {
      "cell_type": "code",
      "metadata": {
        "id": "z8EgFoZYw-2z",
        "colab_type": "code",
        "outputId": "5ea4f3d8-fb92-4f38-8bc1-493e0477ae8d",
        "colab": {
          "base_uri": "https://localhost:8080/",
          "height": 68
        }
      },
      "source": [
        "def sum13(nums):\n",
        "  if len(nums) == 0:\n",
        "    return 0\n",
        " \n",
        "  for i in range(0, len(nums)):\n",
        "    if nums[i] == 13:\n",
        "      nums[i] = 0\n",
        "      if i+1 < len(nums): \n",
        "        nums[i+1] = 0\n",
        "  return sum(nums)\n",
        "\n",
        "print(sum13([1, 2, 2, 1]))\n",
        "print(sum13([1, 1]))\n",
        "print(sum13([1, 2, 2, 1, 13]))"
      ],
      "execution_count": 0,
      "outputs": [
        {
          "output_type": "stream",
          "text": [
            "6\n",
            "2\n",
            "6\n"
          ],
          "name": "stdout"
        }
      ]
    },
    {
      "cell_type": "markdown",
      "metadata": {
        "id": "9dj1-Kdrvn1L",
        "colab_type": "text"
      },
      "source": [
        "5. sum67\n",
        "\n",
        "Return the sum of the numbers in the array, except ignore sections of numbers starting with a 6 and extending to the next 7 (every 6 will be followed by at least one 7). Return 0 for no numbers.\n",
        "\n",
        "\n",
        "* sum67([1, 2, 2]) → 5\n",
        "* sum67([1, 2, 2, 6, 99, 99, 7]) → 5\n",
        "* sum67([1, 1, 6, 7, 2]) → 4"
      ]
    },
    {
      "cell_type": "code",
      "metadata": {
        "id": "hoz_KRxJw_dm",
        "colab_type": "code",
        "outputId": "24d7edfc-923d-4dd5-b79b-062b78096eb2",
        "colab": {
          "base_uri": "https://localhost:8080/",
          "height": 68
        }
      },
      "source": [
        "def sum67(nums):\n",
        "  for i in range(0, len(nums)):\n",
        "    if nums[i] == 6:\n",
        "      nums[i] = 0\n",
        "      for j in range(i+1, len(nums)):\n",
        "        temp = nums[j]\n",
        "        nums[j] = 0\n",
        "        if temp == 7:\n",
        "          i = j + 1\n",
        "          break\n",
        "  return sum(nums)\n",
        "\n",
        "print(sum67([1, 2, 2]))\n",
        "print(sum67([1, 2, 2, 6, 99, 99, 7]))\n",
        "print(sum67([1, 1, 6, 7, 2]))\n"
      ],
      "execution_count": 0,
      "outputs": [
        {
          "output_type": "stream",
          "text": [
            "5\n",
            "5\n",
            "4\n"
          ],
          "name": "stdout"
        }
      ]
    },
    {
      "cell_type": "markdown",
      "metadata": {
        "id": "XMhDlNL9vpm6",
        "colab_type": "text"
      },
      "source": [
        "6. has22\n",
        "\n",
        "\n",
        "Given an array of ints, return True if the array contains a 2 next to a 2 somewhere.\n",
        "\n",
        "\n",
        "* has22([1, 2, 2]) → True\n",
        "* has22([1, 2, 1, 2]) → False\n",
        "* has22([2, 1, 2]) → False"
      ]
    },
    {
      "cell_type": "code",
      "metadata": {
        "id": "4U1ENGp_w1AM",
        "colab_type": "code",
        "outputId": "b0509047-386d-4a59-eab3-6648834758c8",
        "colab": {
          "base_uri": "https://localhost:8080/",
          "height": 68
        }
      },
      "source": [
        "def has22(nums):\n",
        "  for i in range(0, len(nums)-1):\n",
        "    if nums[i] == 2 and nums[i+1] == 2:\n",
        "      return True    \n",
        "  return False\n",
        "\n",
        "print(has22([1, 2, 2]))\n",
        "print(has22([1, 2, 1, 2]))\n",
        "print(has22([2, 1, 2]))\n"
      ],
      "execution_count": 0,
      "outputs": [
        {
          "output_type": "stream",
          "text": [
            "True\n",
            "False\n",
            "False\n"
          ],
          "name": "stdout"
        }
      ]
    }
  ]
}